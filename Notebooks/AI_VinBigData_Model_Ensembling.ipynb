{
 "cells": [
  {
   "cell_type": "markdown",
   "id": "214cda1b",
   "metadata": {
    "papermill": {
     "duration": 0.004733,
     "end_time": "2023-03-26T20:52:39.137122",
     "exception": false,
     "start_time": "2023-03-26T20:52:39.132389",
     "status": "completed"
    },
    "tags": []
   },
   "source": [
    "# VinBigData Chest X-ray Abnormalities Detection\n",
    "\n",
    "## Model Ensembling Method"
   ]
  },
  {
   "cell_type": "markdown",
   "id": "70e273e0",
   "metadata": {
    "papermill": {
     "duration": 0.00366,
     "end_time": "2023-03-26T20:52:39.144906",
     "exception": false,
     "start_time": "2023-03-26T20:52:39.141246",
     "status": "completed"
    },
    "tags": []
   },
   "source": [
    "**Author: Théo LANGÉ** - s394369 - theo.lange.369@cranfield.ac.uk\n",
    "\n",
    "\n",
    "This notebook describes the Model Ensembling Method applied to merge all the different prediction obtained through Yolov8 models. In addition, the use of a 2-class filter is shown.\n",
    "\n",
    "It requires as input all the prediction files made with the notebook `AI_VinBigData_Yolov8` and the binary classification prediction made with the notebook `AI_VinBigData_ResNet101`. One could also access the all the prediction files directly on kaggle: \n",
    "> https://www.kaggle.com/datasets/theolange/ai-vinbigdata\n",
    "\n",
    "For this notebook to work outside of kaggle, you will need to update the last cell in the `Setup` section to precise the path of all the needed directory. \n",
    "\n",
    "This notebook will first merge all the different prediction of the Yolov8 models through an ensembling method called Weighted Boxes Fusion. Then, a 2 class filter will be applied on the Prediction resultig from the ensembling Method\n",
    "\n",
    "## Table of contents\n",
    "0. [Libraries and Setup](#0)\n",
    "1. [Yolov8 Ensembling](#1)\n",
    "2. [2-Class Filter](#2)"
   ]
  },
  {
   "cell_type": "markdown",
   "id": "51688d6a",
   "metadata": {
    "papermill": {
     "duration": 0.003656,
     "end_time": "2023-03-26T20:52:39.152399",
     "exception": false,
     "start_time": "2023-03-26T20:52:39.148743",
     "status": "completed"
    },
    "tags": []
   },
   "source": [
    "<a id=\"0\"></a>\n",
    "# 0. Libraries and Setup"
   ]
  },
  {
   "cell_type": "code",
   "execution_count": 1,
   "id": "8070909a",
   "metadata": {
    "_kg_hide-output": true,
    "execution": {
     "iopub.execute_input": "2023-03-26T20:52:39.162456Z",
     "iopub.status.busy": "2023-03-26T20:52:39.161804Z",
     "iopub.status.idle": "2023-03-26T20:52:49.039001Z",
     "shell.execute_reply": "2023-03-26T20:52:49.037778Z"
    },
    "papermill": {
     "duration": 9.886205,
     "end_time": "2023-03-26T20:52:49.042487",
     "exception": false,
     "start_time": "2023-03-26T20:52:39.156282",
     "status": "completed"
    },
    "tags": []
   },
   "outputs": [
    {
     "name": "stdout",
     "output_type": "stream",
     "text": [
      "\u001b[33mWARNING: Running pip as the 'root' user can result in broken permissions and conflicting behaviour with the system package manager. It is recommended to use a virtual environment instead: https://pip.pypa.io/warnings/venv\u001b[0m\u001b[33m\r\n",
      "\u001b[0mNote: you may need to restart the kernel to use updated packages.\n"
     ]
    }
   ],
   "source": [
    "pip install -q ensemble_boxes"
   ]
  },
  {
   "cell_type": "code",
   "execution_count": 2,
   "id": "e6d4d389",
   "metadata": {
    "execution": {
     "iopub.execute_input": "2023-03-26T20:52:49.052903Z",
     "iopub.status.busy": "2023-03-26T20:52:49.052492Z",
     "iopub.status.idle": "2023-03-26T20:52:51.258143Z",
     "shell.execute_reply": "2023-03-26T20:52:51.256646Z"
    },
    "papermill": {
     "duration": 2.213751,
     "end_time": "2023-03-26T20:52:51.260832",
     "exception": false,
     "start_time": "2023-03-26T20:52:49.047081",
     "status": "completed"
    },
    "tags": []
   },
   "outputs": [],
   "source": [
    "import os\n",
    "import sys\n",
    "import shutil\n",
    "from glob import glob\n",
    "\n",
    "from tqdm.notebook import tqdm\n",
    "import numpy as np\n",
    "import pandas as pd\n",
    "\n",
    "%matplotlib inline\n",
    "import matplotlib.pyplot as plt\n",
    "import matplotlib.image as img\n",
    "import seaborn as sns\n",
    "\n",
    "from ensemble_boxes import *\n",
    "\n",
    "import warnings\n",
    "warnings.filterwarnings('ignore')"
   ]
  },
  {
   "cell_type": "code",
   "execution_count": 3,
   "id": "cd170b0e",
   "metadata": {
    "execution": {
     "iopub.execute_input": "2023-03-26T20:52:51.270565Z",
     "iopub.status.busy": "2023-03-26T20:52:51.270196Z",
     "iopub.status.idle": "2023-03-26T20:52:51.276181Z",
     "shell.execute_reply": "2023-03-26T20:52:51.275128Z"
    },
    "papermill": {
     "duration": 0.01369,
     "end_time": "2023-03-26T20:52:51.278797",
     "exception": false,
     "start_time": "2023-03-26T20:52:51.265107",
     "status": "completed"
    },
    "tags": []
   },
   "outputs": [],
   "source": [
    "# Define the root data directory\n",
    "DATA_DIR = \"/kaggle/input/ai-vinbigdata\"\n",
    "\n",
    "# Define the paths to the training and testing dicom folders respectively\n",
    "TRAIN_DIR = os.path.join(DATA_DIR, \"train\")\n",
    "TEST_DIR = os.path.join(DATA_DIR, \"test\")\n",
    "LABELS_DIR = os.path.join(DATA_DIR, \"labels\")\n",
    "PRED_DIR = os.path.join(DATA_DIR, \"Prediction_Files\")\n",
    "\n",
    "# Define paths to the relevant csv files\n",
    "TRAIN_CSV = os.path.join(DATA_DIR, \"train.csv\")\n",
    "TEST_CSV = os.path.join(DATA_DIR, \"test_meta.csv\")\n",
    "\n",
    "# Working directory\n",
    "WORKING_DIR = \"/kaggle/working\""
   ]
  },
  {
   "cell_type": "markdown",
   "id": "d9a2fc92",
   "metadata": {
    "papermill": {
     "duration": 0.004001,
     "end_time": "2023-03-26T20:52:51.287378",
     "exception": false,
     "start_time": "2023-03-26T20:52:51.283377",
     "status": "completed"
    },
    "tags": []
   },
   "source": [
    "<a id=\"1\"></a>\n",
    "# 1. Yolov8 Ensembling\n",
    "\n",
    "In this section, all the Yolov8 predictions will be merged using a ensembling method."
   ]
  },
  {
   "cell_type": "code",
   "execution_count": 4,
   "id": "7f9fbe78",
   "metadata": {
    "execution": {
     "iopub.execute_input": "2023-03-26T20:52:51.297983Z",
     "iopub.status.busy": "2023-03-26T20:52:51.297079Z",
     "iopub.status.idle": "2023-03-26T20:52:51.304443Z",
     "shell.execute_reply": "2023-03-26T20:52:51.303284Z"
    },
    "papermill": {
     "duration": 0.015397,
     "end_time": "2023-03-26T20:52:51.306858",
     "exception": false,
     "start_time": "2023-03-26T20:52:51.291461",
     "status": "completed"
    },
    "tags": []
   },
   "outputs": [],
   "source": [
    "\"\"\"\n",
    "This function convert the labels, boxes and scores arrays into a string of the right format for submission\n",
    "\n",
    "Input: a list of labels, boxes and scores\n",
    "Output: A Prediction String in the right format\n",
    "\"\"\"\n",
    "\n",
    "def format_prediction_string(labels, boxes, scores):\n",
    "    \n",
    "    pred_strings = []\n",
    "    for j in zip(labels, scores, boxes):\n",
    "        pred_strings.append(\"{0} {1:.4f} {2} {3} {4} {5}\".format(\n",
    "            int(j[0]), j[1], int(j[2][0]), int(j[2][1]), int(j[2][2]), int(j[2][3])))\n",
    "\n",
    "    return \" \".join(pred_strings)"
   ]
  },
  {
   "cell_type": "code",
   "execution_count": 5,
   "id": "08ef2642",
   "metadata": {
    "execution": {
     "iopub.execute_input": "2023-03-26T20:52:51.317435Z",
     "iopub.status.busy": "2023-03-26T20:52:51.316373Z",
     "iopub.status.idle": "2023-03-26T20:52:51.324011Z",
     "shell.execute_reply": "2023-03-26T20:52:51.323246Z"
    },
    "papermill": {
     "duration": 0.014637,
     "end_time": "2023-03-26T20:52:51.325927",
     "exception": false,
     "start_time": "2023-03-26T20:52:51.311290",
     "status": "completed"
    },
    "tags": []
   },
   "outputs": [],
   "source": [
    "\"\"\"\n",
    "Transform a Prediction String into a list of labels, a list of bounding boxes and a list of confidence score\n",
    "\n",
    "Input: a Prediction String, the height and width of the corresponding image \n",
    "Output: The list of labels, the list of bounding boxes and the list of confidence score\n",
    "\"\"\"\n",
    "\n",
    "def str_2_box(PredictionString, h, w):\n",
    "    \n",
    "    predString = PredictionString.split(' ')\n",
    "    \n",
    "    boxes = []\n",
    "    label = []\n",
    "    score = []\n",
    "    \n",
    "    # Loop over all the predicted boxes (6 values)\n",
    "    for i in range (0, len(predString), 6):\n",
    "        # Retrieve the label\n",
    "        label.append(int(predString[i]))\n",
    "        \n",
    "        # Retrieve the confidence score\n",
    "        score.append(float(predString[i+1]))\n",
    "\n",
    "        # Retrieve the bounding boxe and its relative position\n",
    "        boxe = []\n",
    "        boxe.append(int(predString[i+2])/w)\n",
    "        boxe.append(int(predString[i+3])/h)\n",
    "\n",
    "        boxe.append(int(predString[i+4])/w)\n",
    "        boxe.append(int(predString[i+5])/h)\n",
    "\n",
    "        boxes.append(boxe)\n",
    "    \n",
    "    return label, boxes, score"
   ]
  },
  {
   "cell_type": "code",
   "execution_count": 6,
   "id": "967921f4",
   "metadata": {
    "execution": {
     "iopub.execute_input": "2023-03-26T20:52:51.335146Z",
     "iopub.status.busy": "2023-03-26T20:52:51.334898Z",
     "iopub.status.idle": "2023-03-26T20:52:51.349114Z",
     "shell.execute_reply": "2023-03-26T20:52:51.347732Z"
    },
    "papermill": {
     "duration": 0.022001,
     "end_time": "2023-03-26T20:52:51.352032",
     "exception": false,
     "start_time": "2023-03-26T20:52:51.330031",
     "status": "completed"
    },
    "tags": []
   },
   "outputs": [],
   "source": [
    "\"\"\"\n",
    "This function will merge all Yolov8 prediction using the WBF algorithm\n",
    "\n",
    "Input: None\n",
    "Output: Prediction DataFrame obtains through an ensembling method of all Yolov8 prediction\n",
    "\"\"\"\n",
    "\n",
    "def ensemble_prediction_yolov8():\n",
    "    \n",
    "    # Get the location of the Yolov8 prediction file\n",
    "    prediction_files = glob(os.path.join(PRED_DIR, 'submission_Yolov8x*.csv'))\n",
    "    \n",
    "    # Merge all the Yolov8 prediction DataFrames\n",
    "    pred_df = pd.read_csv(prediction_files[0]).rename(columns={'PredictionString': 'PredictionString_0'})\n",
    "    for idx, file in enumerate(prediction_files[1:]):\n",
    "        pred_df = pred_df.merge(pd.read_csv(file).rename(columns={'PredictionString': f'PredictionString_{idx+1}'}), on='image_id', how='left')\n",
    "        \n",
    "    # Get the Test DataFrame for the image shape\n",
    "    test_meta = pd.read_csv(TEST_CSV)\n",
    "    \n",
    "    preds = []\n",
    "    img_size = test_meta.values\n",
    "    \n",
    "    # Loop over all the images and get the bounding boxes from every Prediction String\n",
    "    for idx, row in pred_df.iterrows():\n",
    "        img_id = row.image_id\n",
    "        \n",
    "        # Get the image height and width\n",
    "        index = np.where(img_size[:,0] == img_id)[0][0]\n",
    "        h, w = img_size[index,1], img_size[index,2]\n",
    "\n",
    "        boxes = []\n",
    "        labels = []\n",
    "        scores = []\n",
    "        \n",
    "        # Get the list of each predicted bounding boxes predicted by the 5 Yolov8 models\n",
    "        for i in range (len(prediction_files)):\n",
    "            label, boxe, score = str_2_box(row[f'PredictionString_{i}'], h, w)\n",
    "            labels.append(label)\n",
    "            boxes.append(boxe)\n",
    "            scores.append(score)\n",
    "\n",
    "        # Merge all the predictions using the WBF algorithm\n",
    "        boxes, scores, labels = weighted_boxes_fusion(boxes, scores, labels, weights=None, iou_thr=0.4, skip_box_thr=0.0001)\n",
    "\n",
    "        # Retrieve the absolute position of the bounding boxes given the image height and width\n",
    "        for i in range (len(boxes)):\n",
    "            if labels[i] != 14:\n",
    "                boxes[i][0] *= w\n",
    "                boxes[i][2] *= w\n",
    "\n",
    "                boxes[i][1] *= h\n",
    "                boxes[i][3] *= h\n",
    "                \n",
    "            else:\n",
    "                boxes[i][0] = 0\n",
    "                boxes[i][2] = 1\n",
    "\n",
    "                boxes[i][1] = 0\n",
    "                boxes[i][3] = 1\n",
    "\n",
    "\n",
    "        # Add the merged prediction to a list\n",
    "        pred = {\n",
    "                    'image_id': img_id,\n",
    "                    'PredictionString': format_prediction_string(labels, boxes, scores)\n",
    "        }\n",
    "        preds.append(pred)\n",
    "        \n",
    "    # Create a DataFrame for the merged prediction\n",
    "    pred_df = pd.DataFrame(preds)\n",
    "    \n",
    "    return pred_df"
   ]
  },
  {
   "cell_type": "code",
   "execution_count": 7,
   "id": "b4219364",
   "metadata": {
    "execution": {
     "iopub.execute_input": "2023-03-26T20:52:51.363396Z",
     "iopub.status.busy": "2023-03-26T20:52:51.362988Z",
     "iopub.status.idle": "2023-03-26T20:52:53.575124Z",
     "shell.execute_reply": "2023-03-26T20:52:53.574414Z"
    },
    "papermill": {
     "duration": 2.219849,
     "end_time": "2023-03-26T20:52:53.576992",
     "exception": false,
     "start_time": "2023-03-26T20:52:51.357143",
     "status": "completed"
    },
    "tags": []
   },
   "outputs": [
    {
     "data": {
      "text/html": [
       "<div>\n",
       "<style scoped>\n",
       "    .dataframe tbody tr th:only-of-type {\n",
       "        vertical-align: middle;\n",
       "    }\n",
       "\n",
       "    .dataframe tbody tr th {\n",
       "        vertical-align: top;\n",
       "    }\n",
       "\n",
       "    .dataframe thead th {\n",
       "        text-align: right;\n",
       "    }\n",
       "</style>\n",
       "<table border=\"1\" class=\"dataframe\">\n",
       "  <thead>\n",
       "    <tr style=\"text-align: right;\">\n",
       "      <th></th>\n",
       "      <th>image_id</th>\n",
       "      <th>PredictionString</th>\n",
       "    </tr>\n",
       "  </thead>\n",
       "  <tbody>\n",
       "    <tr>\n",
       "      <th>0</th>\n",
       "      <td>002a34c58c5b758217ed1f584ccbcfe9</td>\n",
       "      <td>14 0.8000 0 0 1 1 3 0.0686 778 1115 1974 1695</td>\n",
       "    </tr>\n",
       "    <tr>\n",
       "      <th>1</th>\n",
       "      <td>004f33259ee4aef671c2b95d54e4be68</td>\n",
       "      <td>0 0.4410 1083 568 1551 960</td>\n",
       "    </tr>\n",
       "    <tr>\n",
       "      <th>2</th>\n",
       "      <td>008bdde2af2462e86fd373a445d0f4cd</td>\n",
       "      <td>3 0.8587 1091 1412 1930 1780 0 0.8381 1422 820...</td>\n",
       "    </tr>\n",
       "    <tr>\n",
       "      <th>3</th>\n",
       "      <td>009bc039326338823ca3aa84381f17f1</td>\n",
       "      <td>3 0.8289 660 1052 1554 1348 0 0.6013 994 475 1...</td>\n",
       "    </tr>\n",
       "    <tr>\n",
       "      <th>4</th>\n",
       "      <td>00a2145de1886cb9eb88869c85d74080</td>\n",
       "      <td>3 0.8483 772 1288 1861 1639 0 0.7149 1121 708 ...</td>\n",
       "    </tr>\n",
       "  </tbody>\n",
       "</table>\n",
       "</div>"
      ],
      "text/plain": [
       "                           image_id  \\\n",
       "0  002a34c58c5b758217ed1f584ccbcfe9   \n",
       "1  004f33259ee4aef671c2b95d54e4be68   \n",
       "2  008bdde2af2462e86fd373a445d0f4cd   \n",
       "3  009bc039326338823ca3aa84381f17f1   \n",
       "4  00a2145de1886cb9eb88869c85d74080   \n",
       "\n",
       "                                    PredictionString  \n",
       "0      14 0.8000 0 0 1 1 3 0.0686 778 1115 1974 1695  \n",
       "1                         0 0.4410 1083 568 1551 960  \n",
       "2  3 0.8587 1091 1412 1930 1780 0 0.8381 1422 820...  \n",
       "3  3 0.8289 660 1052 1554 1348 0 0.6013 994 475 1...  \n",
       "4  3 0.8483 772 1288 1861 1639 0 0.7149 1121 708 ...  "
      ]
     },
     "execution_count": 7,
     "metadata": {},
     "output_type": "execute_result"
    }
   ],
   "source": [
    "# Ensemble all the Yolov8 models and get the submission file\n",
    "ensemble_pred_df = ensemble_prediction_yolov8()\n",
    "ensemble_pred_df.head()"
   ]
  },
  {
   "cell_type": "code",
   "execution_count": 8,
   "id": "3527c038",
   "metadata": {
    "execution": {
     "iopub.execute_input": "2023-03-26T20:52:53.588078Z",
     "iopub.status.busy": "2023-03-26T20:52:53.587621Z",
     "iopub.status.idle": "2023-03-26T20:52:53.604327Z",
     "shell.execute_reply": "2023-03-26T20:52:53.603179Z"
    },
    "papermill": {
     "duration": 0.024802,
     "end_time": "2023-03-26T20:52:53.606608",
     "exception": false,
     "start_time": "2023-03-26T20:52:53.581806",
     "status": "completed"
    },
    "tags": []
   },
   "outputs": [],
   "source": [
    "ensemble_pred_df.to_csv(\"ensemble_Yolov8.csv\", index=None)"
   ]
  },
  {
   "cell_type": "markdown",
   "id": "a21679ba",
   "metadata": {
    "papermill": {
     "duration": 0.003981,
     "end_time": "2023-03-26T20:52:53.615106",
     "exception": false,
     "start_time": "2023-03-26T20:52:53.611125",
     "status": "completed"
    },
    "tags": []
   },
   "source": [
    "<a id=\"2\"></a>\n",
    "# 2. 2-Class Filter\n",
    "\n",
    "Apply a 2-class filter to the ensembled prediction."
   ]
  },
  {
   "cell_type": "code",
   "execution_count": 9,
   "id": "20d90e97",
   "metadata": {
    "execution": {
     "iopub.execute_input": "2023-03-26T20:52:53.625086Z",
     "iopub.status.busy": "2023-03-26T20:52:53.624670Z",
     "iopub.status.idle": "2023-03-26T20:52:53.646562Z",
     "shell.execute_reply": "2023-03-26T20:52:53.645571Z"
    },
    "papermill": {
     "duration": 0.029329,
     "end_time": "2023-03-26T20:52:53.648573",
     "exception": false,
     "start_time": "2023-03-26T20:52:53.619244",
     "status": "completed"
    },
    "tags": []
   },
   "outputs": [
    {
     "data": {
      "text/html": [
       "<div>\n",
       "<style scoped>\n",
       "    .dataframe tbody tr th:only-of-type {\n",
       "        vertical-align: middle;\n",
       "    }\n",
       "\n",
       "    .dataframe tbody tr th {\n",
       "        vertical-align: top;\n",
       "    }\n",
       "\n",
       "    .dataframe thead th {\n",
       "        text-align: right;\n",
       "    }\n",
       "</style>\n",
       "<table border=\"1\" class=\"dataframe\">\n",
       "  <thead>\n",
       "    <tr style=\"text-align: right;\">\n",
       "      <th></th>\n",
       "      <th>image_id</th>\n",
       "      <th>Finding</th>\n",
       "      <th>No Finding</th>\n",
       "    </tr>\n",
       "  </thead>\n",
       "  <tbody>\n",
       "    <tr>\n",
       "      <th>0</th>\n",
       "      <td>002a34c58c5b758217ed1f584ccbcfe9</td>\n",
       "      <td>0.000005</td>\n",
       "      <td>0.999995</td>\n",
       "    </tr>\n",
       "    <tr>\n",
       "      <th>1</th>\n",
       "      <td>004f33259ee4aef671c2b95d54e4be68</td>\n",
       "      <td>0.000108</td>\n",
       "      <td>0.999892</td>\n",
       "    </tr>\n",
       "    <tr>\n",
       "      <th>2</th>\n",
       "      <td>008bdde2af2462e86fd373a445d0f4cd</td>\n",
       "      <td>0.983205</td>\n",
       "      <td>0.016795</td>\n",
       "    </tr>\n",
       "    <tr>\n",
       "      <th>3</th>\n",
       "      <td>009bc039326338823ca3aa84381f17f1</td>\n",
       "      <td>0.000928</td>\n",
       "      <td>0.999072</td>\n",
       "    </tr>\n",
       "    <tr>\n",
       "      <th>4</th>\n",
       "      <td>00a2145de1886cb9eb88869c85d74080</td>\n",
       "      <td>0.988707</td>\n",
       "      <td>0.011293</td>\n",
       "    </tr>\n",
       "  </tbody>\n",
       "</table>\n",
       "</div>"
      ],
      "text/plain": [
       "                           image_id   Finding  No Finding\n",
       "0  002a34c58c5b758217ed1f584ccbcfe9  0.000005    0.999995\n",
       "1  004f33259ee4aef671c2b95d54e4be68  0.000108    0.999892\n",
       "2  008bdde2af2462e86fd373a445d0f4cd  0.983205    0.016795\n",
       "3  009bc039326338823ca3aa84381f17f1  0.000928    0.999072\n",
       "4  00a2145de1886cb9eb88869c85d74080  0.988707    0.011293"
      ]
     },
     "execution_count": 9,
     "metadata": {},
     "output_type": "execute_result"
    }
   ],
   "source": [
    "pred_2cls = pd.read_csv(os.path.join(PRED_DIR, \"Resnet101_2cls_pred.csv\")) \n",
    "pred_2cls.head()"
   ]
  },
  {
   "cell_type": "code",
   "execution_count": 10,
   "id": "ff62640a",
   "metadata": {
    "execution": {
     "iopub.execute_input": "2023-03-26T20:52:53.660716Z",
     "iopub.status.busy": "2023-03-26T20:52:53.659999Z",
     "iopub.status.idle": "2023-03-26T20:52:53.667730Z",
     "shell.execute_reply": "2023-03-26T20:52:53.666362Z"
    },
    "papermill": {
     "duration": 0.016187,
     "end_time": "2023-03-26T20:52:53.670348",
     "exception": false,
     "start_time": "2023-03-26T20:52:53.654161",
     "status": "completed"
    },
    "tags": []
   },
   "outputs": [],
   "source": [
    "\"\"\"\n",
    "This function will apply a 2-class filter to the ensembled prediction\n",
    "\n",
    "Input: Prediction DataFrame after ensembling method, Prediction DataFrame for 2-class filter, three threshold for the filter\n",
    "Output: Final Submission DataFrame after 2-class Filter \n",
    "\"\"\"\n",
    "\n",
    "def apply_2cls_filter(ensemble_pred_df, pred_2cls, low_threshold = 0.0, intermediate_threshold = 0.995, high_threshold = 0.995):\n",
    "    \n",
    "    # Merge the two DataFrame\n",
    "    merged_df = pd.merge(ensemble_pred_df, pred_2cls, on=\"image_id\", how=\"left\")\n",
    "    \n",
    "    # For each images\n",
    "    for i in range(len(merged_df)):\n",
    "        # Get the confidence score for the image being normal\n",
    "        p0 = merged_df.loc[i, \"No Finding\"]\n",
    "        \n",
    "        if p0 < low_threshold:\n",
    "            # The confidence score is too low\n",
    "            # Keep, do nothing.\n",
    "            pass\n",
    "        \n",
    "        elif low_threshold <= p0 and p0 < intermediate_threshold:\n",
    "            # Add, keep \"det\" preds and add normal pred.\n",
    "            # It has been shown that this increase the prediction score\n",
    "            merged_df.loc[i, \"PredictionString\"] += f\" 14 {p0} 0 0 1 1\"\n",
    "            \n",
    "        elif high_threshold <= p0:\n",
    "            # When the confidence score is high enough\n",
    "            # Replace, remove all \"det\" preds.\n",
    "            merged_df.loc[i, \"PredictionString\"] = \"14 1 0 0 1 1\"\n",
    "        else:\n",
    "            pass\n",
    "    \n",
    "    # Get the prediction DataFrame after 2-class filter\n",
    "    ensemble_pred_filter = merged_df[[\"image_id\", \"PredictionString\"]]\n",
    "    return ensemble_pred_filter"
   ]
  },
  {
   "cell_type": "code",
   "execution_count": 11,
   "id": "8ec7e837",
   "metadata": {
    "execution": {
     "iopub.execute_input": "2023-03-26T20:52:53.681389Z",
     "iopub.status.busy": "2023-03-26T20:52:53.680802Z",
     "iopub.status.idle": "2023-03-26T20:52:54.588676Z",
     "shell.execute_reply": "2023-03-26T20:52:54.586967Z"
    },
    "papermill": {
     "duration": 0.916407,
     "end_time": "2023-03-26T20:52:54.591468",
     "exception": false,
     "start_time": "2023-03-26T20:52:53.675061",
     "status": "completed"
    },
    "tags": []
   },
   "outputs": [
    {
     "data": {
      "text/html": [
       "<div>\n",
       "<style scoped>\n",
       "    .dataframe tbody tr th:only-of-type {\n",
       "        vertical-align: middle;\n",
       "    }\n",
       "\n",
       "    .dataframe tbody tr th {\n",
       "        vertical-align: top;\n",
       "    }\n",
       "\n",
       "    .dataframe thead th {\n",
       "        text-align: right;\n",
       "    }\n",
       "</style>\n",
       "<table border=\"1\" class=\"dataframe\">\n",
       "  <thead>\n",
       "    <tr style=\"text-align: right;\">\n",
       "      <th></th>\n",
       "      <th>image_id</th>\n",
       "      <th>PredictionString</th>\n",
       "    </tr>\n",
       "  </thead>\n",
       "  <tbody>\n",
       "    <tr>\n",
       "      <th>0</th>\n",
       "      <td>002a34c58c5b758217ed1f584ccbcfe9</td>\n",
       "      <td>14 1 0 0 1 1</td>\n",
       "    </tr>\n",
       "    <tr>\n",
       "      <th>1</th>\n",
       "      <td>004f33259ee4aef671c2b95d54e4be68</td>\n",
       "      <td>14 1 0 0 1 1</td>\n",
       "    </tr>\n",
       "    <tr>\n",
       "      <th>2</th>\n",
       "      <td>008bdde2af2462e86fd373a445d0f4cd</td>\n",
       "      <td>3 0.8587 1091 1412 1930 1780 0 0.8381 1422 820...</td>\n",
       "    </tr>\n",
       "    <tr>\n",
       "      <th>3</th>\n",
       "      <td>009bc039326338823ca3aa84381f17f1</td>\n",
       "      <td>14 1 0 0 1 1</td>\n",
       "    </tr>\n",
       "    <tr>\n",
       "      <th>4</th>\n",
       "      <td>00a2145de1886cb9eb88869c85d74080</td>\n",
       "      <td>3 0.8483 772 1288 1861 1639 0 0.7149 1121 708 ...</td>\n",
       "    </tr>\n",
       "  </tbody>\n",
       "</table>\n",
       "</div>"
      ],
      "text/plain": [
       "                           image_id  \\\n",
       "0  002a34c58c5b758217ed1f584ccbcfe9   \n",
       "1  004f33259ee4aef671c2b95d54e4be68   \n",
       "2  008bdde2af2462e86fd373a445d0f4cd   \n",
       "3  009bc039326338823ca3aa84381f17f1   \n",
       "4  00a2145de1886cb9eb88869c85d74080   \n",
       "\n",
       "                                    PredictionString  \n",
       "0                                       14 1 0 0 1 1  \n",
       "1                                       14 1 0 0 1 1  \n",
       "2  3 0.8587 1091 1412 1930 1780 0 0.8381 1422 820...  \n",
       "3                                       14 1 0 0 1 1  \n",
       "4  3 0.8483 772 1288 1861 1639 0 0.7149 1121 708 ...  "
      ]
     },
     "execution_count": 11,
     "metadata": {},
     "output_type": "execute_result"
    }
   ],
   "source": [
    "# Apply the 2-class filter to the ensembled Yolov8 prediction\n",
    "ensemble_pred_filter = apply_2cls_filter(ensemble_pred_df, pred_2cls)\n",
    "ensemble_pred_filter.head()"
   ]
  },
  {
   "cell_type": "code",
   "execution_count": 12,
   "id": "655c7527",
   "metadata": {
    "execution": {
     "iopub.execute_input": "2023-03-26T20:52:54.603788Z",
     "iopub.status.busy": "2023-03-26T20:52:54.602800Z",
     "iopub.status.idle": "2023-03-26T20:52:54.615288Z",
     "shell.execute_reply": "2023-03-26T20:52:54.614271Z"
    },
    "papermill": {
     "duration": 0.02102,
     "end_time": "2023-03-26T20:52:54.617523",
     "exception": false,
     "start_time": "2023-03-26T20:52:54.596503",
     "status": "completed"
    },
    "tags": []
   },
   "outputs": [],
   "source": [
    "ensemble_pred_filter.to_csv('Submission_ensemble_Yolov8_ResNet101.csv', index=None)"
   ]
  }
 ],
 "metadata": {
  "kernelspec": {
   "display_name": "Python 3",
   "language": "python",
   "name": "python3"
  },
  "language_info": {
   "codemirror_mode": {
    "name": "ipython",
    "version": 3
   },
   "file_extension": ".py",
   "mimetype": "text/x-python",
   "name": "python",
   "nbconvert_exporter": "python",
   "pygments_lexer": "ipython3",
   "version": "3.7.12"
  },
  "papermill": {
   "default_parameters": {},
   "duration": 24.60841,
   "end_time": "2023-03-26T20:52:55.343839",
   "environment_variables": {},
   "exception": null,
   "input_path": "__notebook__.ipynb",
   "output_path": "__notebook__.ipynb",
   "parameters": {},
   "start_time": "2023-03-26T20:52:30.735429",
   "version": "2.4.0"
  }
 },
 "nbformat": 4,
 "nbformat_minor": 5
}
